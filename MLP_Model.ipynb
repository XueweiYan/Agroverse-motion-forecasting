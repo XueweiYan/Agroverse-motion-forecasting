{
 "cells": [
  {
   "cell_type": "markdown",
   "id": "36ed6e6f",
   "metadata": {},
   "source": [
    "# MLP Method"
   ]
  },
  {
   "cell_type": "code",
   "execution_count": 1,
   "id": "fcd54e13",
   "metadata": {},
   "outputs": [],
   "source": [
    "import pickle\n",
    "from glob import glob\n",
    "import numpy as np\n",
    "import torch\n",
    "import torch.nn as nn\n",
    "import pandas as pd\n",
    "import time\n",
    "import os\n",
    "\n",
    "device = torch.device(\"cuda\" if torch.cuda.is_available() else \"cpu\")"
   ]
  },
  {
   "cell_type": "code",
   "execution_count": 2,
   "id": "b6c9e29b",
   "metadata": {},
   "outputs": [],
   "source": [
    "train_path = \"processed_training.npz\"\n",
    "train_data = np.load(train_path)\n",
    "#test_path = \"processed_testing.npz\"\n",
    "#test_data = np.load(test_path)"
   ]
  },
  {
   "cell_type": "code",
   "execution_count": 3,
   "id": "2a0ea8f5",
   "metadata": {},
   "outputs": [],
   "source": [
    "class MLPNet(nn.Module):\n",
    "    def __init__(self, \n",
    "                 in_dim, # input dimension\n",
    "                 out_dim, # output dimension\n",
    "                 hidden_dim, # hidden dimension\n",
    "                 num_layers # number of layers\n",
    "                ):\n",
    "        \n",
    "        super(MLPNet, self).__init__()\n",
    "        \n",
    "        self.model = [nn.Linear(in_dim, hidden_dim), nn.ReLU()]\n",
    "        \n",
    "        for i in range(num_layers-2):\n",
    "            self.model += [nn.Linear(hidden_dim, hidden_dim), nn.ReLU()]\n",
    "        \n",
    "        self.model += [nn.Linear(hidden_dim, out_dim)]\n",
    "        \n",
    "        self.model = nn.Sequential(*self.model)\n",
    "        \n",
    "    def forward(self, inp):\n",
    "        \n",
    "        # Flatten the last two dimensions\n",
    "        inp = inp.reshape(inp.shape[0], -1)\n",
    "        \n",
    "        out = self.model(inp)\n",
    "        \n",
    "        #bz x outputlength x 2\n",
    "        return out.reshape(inp.shape[0], -1)"
   ]
  },
  {
   "cell_type": "code",
   "execution_count": 4,
   "id": "df897ad5",
   "metadata": {},
   "outputs": [],
   "source": [
    "batch_size = 512\n",
    "in_dim = 19*4\n",
    "out_dim = 30*2\n",
    "hidden_dim = 128\n",
    "num_layers = 3\n",
    "learning_rate = 0.01\n",
    "decay_rate = 0.95\n",
    "num_epoch = 1000"
   ]
  },
  {
   "cell_type": "code",
   "execution_count": 5,
   "id": "42166b4d",
   "metadata": {},
   "outputs": [],
   "source": [
    "# RNN, LSTM, 1dCNN, Transformer\n",
    "model = MLPNet(in_dim = in_dim, \n",
    "               out_dim = out_dim,\n",
    "               hidden_dim = hidden_dim, \n",
    "               num_layers = num_layers).to(device) # move model to gpu \n",
    "\n",
    "# Adaptive Moment Estimation computes adaptive learning rates for each parameter. \n",
    "# Compute the decaying averages of past and past squared gradients. \n",
    "\n",
    "optimizer = torch.optim.Adam(model.parameters(), lr=learning_rate)\n",
    "scheduler = torch.optim.lr_scheduler.StepLR(optimizer, step_size=1, gamma=decay_rate)  # stepwise learning rate decay\n",
    "loss_fun = nn.MSELoss()"
   ]
  },
  {
   "cell_type": "code",
   "execution_count": 6,
   "id": "b76d3ff6",
   "metadata": {},
   "outputs": [],
   "source": [
    "def train_epoch(model, optimizer, loss_function):\n",
    "    train_mse = []\n",
    "    idx = np.random.permutation(batch_size * 370).reshape(370, batch_size)\n",
    "    for i in idx:\n",
    "        inp = torch.from_numpy(train_data[\"X\"][i]).float().to(device)\n",
    "        tgt = torch.from_numpy(train_data[\"y\"][i]).float().to(device)\n",
    "        pred = model(inp)\n",
    "        loss = loss_function(pred, tgt)\n",
    "        train_mse.append(loss.item()) \n",
    "        optimizer.zero_grad()\n",
    "        loss.backward()\n",
    "        optimizer.step()\n",
    "    train_mse = round(np.sqrt(np.mean(train_mse)),5)\n",
    "    return train_mse\n",
    "\n",
    "def eval_epoch(model, loss_function):\n",
    "    valid_mse = []\n",
    "    preds = []\n",
    "    trues = []\n",
    "    with torch.no_grad():\n",
    "        idx = np.random.permutation(range(batch_size * 370, batch_size * 402)).reshape(32, batch_size)\n",
    "        for i in idx:\n",
    "            inp = torch.from_numpy(train_data[\"X\"][i]).float().to(device)\n",
    "            tgt = torch.from_numpy(train_data[\"y\"][i]).float().to(device)\n",
    "            pred = model(inp)\n",
    "            loss = loss_function(pred, tgt)\n",
    "            preds.append(pred.cpu().data.numpy())\n",
    "            trues.append(tgt.cpu().data.numpy())\n",
    "            valid_mse.append(loss.item())\n",
    "            \n",
    "        preds = np.concatenate(preds, axis = 0)  \n",
    "        trues = np.concatenate(trues, axis = 0)  \n",
    "        valid_mse = round(np.sqrt(np.mean(valid_mse)), 5)\n",
    "    return valid_mse, preds, trues\n"
   ]
  },
  {
   "cell_type": "code",
   "execution_count": 7,
   "id": "3e776323",
   "metadata": {},
   "outputs": [
    {
     "name": "stdout",
     "output_type": "stream",
     "text": [
      "Epoch 1 | T: 1.82 | Train RMSE: 0.08458 | Valid RMSE: 0.03725\n",
      "Epoch 2 | T: 1.81 | Train RMSE: 0.02301 | Valid RMSE: 0.02064\n",
      "Epoch 3 | T: 1.82 | Train RMSE: 0.02036 | Valid RMSE: 0.01612\n",
      "Epoch 4 | T: 1.82 | Train RMSE: 0.01930 | Valid RMSE: 0.01640\n",
      "Epoch 5 | T: 1.80 | Train RMSE: 0.01845 | Valid RMSE: 0.01493\n",
      "Epoch 6 | T: 1.80 | Train RMSE: 0.01825 | Valid RMSE: 0.01493\n",
      "Epoch 7 | T: 1.80 | Train RMSE: 0.01680 | Valid RMSE: 0.01740\n",
      "Epoch 8 | T: 1.80 | Train RMSE: 0.01677 | Valid RMSE: 0.02064\n",
      "Epoch 9 | T: 1.80 | Train RMSE: 0.01627 | Valid RMSE: 0.02941\n",
      "Epoch 10 | T: 1.80 | Train RMSE: 0.01514 | Valid RMSE: 0.01196\n",
      "Epoch 11 | T: 1.81 | Train RMSE: 0.01498 | Valid RMSE: 0.01181\n",
      "Epoch 12 | T: 1.80 | Train RMSE: 0.01475 | Valid RMSE: 0.01197\n",
      "Epoch 13 | T: 1.82 | Train RMSE: 0.01449 | Valid RMSE: 0.01090\n",
      "Epoch 14 | T: 1.81 | Train RMSE: 0.01331 | Valid RMSE: 0.01482\n",
      "Epoch 15 | T: 1.81 | Train RMSE: 0.01269 | Valid RMSE: 0.00948\n",
      "Epoch 16 | T: 1.81 | Train RMSE: 0.01233 | Valid RMSE: 0.01149\n",
      "Epoch 17 | T: 1.81 | Train RMSE: 0.01166 | Valid RMSE: 0.00997\n",
      "Epoch 18 | T: 1.81 | Train RMSE: 0.01088 | Valid RMSE: 0.00838\n",
      "Epoch 19 | T: 1.81 | Train RMSE: 0.01066 | Valid RMSE: 0.00837\n",
      "Epoch 20 | T: 1.81 | Train RMSE: 0.01020 | Valid RMSE: 0.00841\n",
      "Epoch 21 | T: 1.82 | Train RMSE: 0.00964 | Valid RMSE: 0.00790\n",
      "Epoch 22 | T: 1.82 | Train RMSE: 0.00961 | Valid RMSE: 0.00778\n",
      "Epoch 23 | T: 1.82 | Train RMSE: 0.00907 | Valid RMSE: 0.00789\n",
      "Epoch 24 | T: 1.80 | Train RMSE: 0.00901 | Valid RMSE: 0.00847\n",
      "Epoch 25 | T: 1.80 | Train RMSE: 0.00900 | Valid RMSE: 0.00730\n",
      "Epoch 26 | T: 1.80 | Train RMSE: 0.00845 | Valid RMSE: 0.00845\n",
      "Epoch 27 | T: 1.81 | Train RMSE: 0.00846 | Valid RMSE: 0.00720\n",
      "Epoch 28 | T: 1.81 | Train RMSE: 0.00830 | Valid RMSE: 0.00730\n",
      "Epoch 29 | T: 1.81 | Train RMSE: 0.00809 | Valid RMSE: 0.00934\n",
      "Epoch 30 | T: 1.82 | Train RMSE: 0.00790 | Valid RMSE: 0.00954\n",
      "Epoch 31 | T: 1.81 | Train RMSE: 0.00801 | Valid RMSE: 0.00677\n",
      "Epoch 32 | T: 1.82 | Train RMSE: 0.00757 | Valid RMSE: 0.00759\n",
      "Epoch 33 | T: 1.81 | Train RMSE: 0.00754 | Valid RMSE: 0.00657\n",
      "Epoch 34 | T: 1.81 | Train RMSE: 0.00741 | Valid RMSE: 0.00677\n",
      "Epoch 35 | T: 1.81 | Train RMSE: 0.00731 | Valid RMSE: 0.00733\n",
      "Epoch 36 | T: 1.81 | Train RMSE: 0.00712 | Valid RMSE: 0.00626\n",
      "Epoch 37 | T: 1.81 | Train RMSE: 0.00695 | Valid RMSE: 0.00622\n",
      "Epoch 38 | T: 1.81 | Train RMSE: 0.00697 | Valid RMSE: 0.00644\n",
      "Epoch 39 | T: 1.81 | Train RMSE: 0.00675 | Valid RMSE: 0.00608\n",
      "Epoch 40 | T: 1.81 | Train RMSE: 0.00668 | Valid RMSE: 0.00589\n",
      "Epoch 41 | T: 1.80 | Train RMSE: 0.00652 | Valid RMSE: 0.00621\n",
      "Epoch 42 | T: 1.81 | Train RMSE: 0.00637 | Valid RMSE: 0.00635\n",
      "Epoch 43 | T: 1.81 | Train RMSE: 0.00635 | Valid RMSE: 0.00731\n",
      "Epoch 44 | T: 1.81 | Train RMSE: 0.00621 | Valid RMSE: 0.00592\n",
      "Epoch 45 | T: 1.81 | Train RMSE: 0.00603 | Valid RMSE: 0.00628\n",
      "Epoch 46 | T: 1.82 | Train RMSE: 0.00591 | Valid RMSE: 0.00544\n",
      "Epoch 47 | T: 1.81 | Train RMSE: 0.00587 | Valid RMSE: 0.00557\n",
      "Epoch 48 | T: 1.81 | Train RMSE: 0.00560 | Valid RMSE: 0.00555\n",
      "Epoch 49 | T: 1.81 | Train RMSE: 0.00559 | Valid RMSE: 0.00523\n",
      "Epoch 50 | T: 1.81 | Train RMSE: 0.00552 | Valid RMSE: 0.00534\n",
      "Epoch 51 | T: 1.81 | Train RMSE: 0.00534 | Valid RMSE: 0.00494\n",
      "Epoch 52 | T: 1.81 | Train RMSE: 0.00526 | Valid RMSE: 0.00562\n",
      "Epoch 53 | T: 1.81 | Train RMSE: 0.00523 | Valid RMSE: 0.00536\n",
      "Epoch 54 | T: 1.81 | Train RMSE: 0.00517 | Valid RMSE: 0.00485\n",
      "Epoch 55 | T: 1.81 | Train RMSE: 0.00502 | Valid RMSE: 0.00597\n",
      "Epoch 56 | T: 1.80 | Train RMSE: 0.00503 | Valid RMSE: 0.00519\n",
      "Epoch 57 | T: 1.80 | Train RMSE: 0.00497 | Valid RMSE: 0.00479\n",
      "Epoch 58 | T: 1.80 | Train RMSE: 0.00493 | Valid RMSE: 0.00461\n",
      "Epoch 59 | T: 1.80 | Train RMSE: 0.00486 | Valid RMSE: 0.00481\n",
      "Epoch 60 | T: 1.80 | Train RMSE: 0.00488 | Valid RMSE: 0.00467\n",
      "Epoch 61 | T: 1.81 | Train RMSE: 0.00476 | Valid RMSE: 0.00497\n",
      "Epoch 62 | T: 1.80 | Train RMSE: 0.00475 | Valid RMSE: 0.00457\n",
      "Epoch 63 | T: 1.81 | Train RMSE: 0.00474 | Valid RMSE: 0.00489\n",
      "Epoch 64 | T: 1.80 | Train RMSE: 0.00467 | Valid RMSE: 0.00489\n",
      "Epoch 65 | T: 1.80 | Train RMSE: 0.00470 | Valid RMSE: 0.00480\n",
      "Epoch 66 | T: 1.80 | Train RMSE: 0.00463 | Valid RMSE: 0.00477\n",
      "Epoch 67 | T: 1.81 | Train RMSE: 0.00466 | Valid RMSE: 0.00463\n",
      "Epoch 68 | T: 1.80 | Train RMSE: 0.00460 | Valid RMSE: 0.00452\n",
      "Epoch 69 | T: 1.81 | Train RMSE: 0.00460 | Valid RMSE: 0.00462\n",
      "Epoch 70 | T: 1.81 | Train RMSE: 0.00459 | Valid RMSE: 0.00445\n",
      "Epoch 71 | T: 1.81 | Train RMSE: 0.00457 | Valid RMSE: 0.00445\n",
      "Epoch 72 | T: 1.81 | Train RMSE: 0.00455 | Valid RMSE: 0.00444\n",
      "Epoch 73 | T: 1.80 | Train RMSE: 0.00456 | Valid RMSE: 0.00451\n",
      "Epoch 74 | T: 1.80 | Train RMSE: 0.00451 | Valid RMSE: 0.00453\n",
      "Epoch 75 | T: 1.81 | Train RMSE: 0.00453 | Valid RMSE: 0.00444\n",
      "Epoch 76 | T: 1.82 | Train RMSE: 0.00451 | Valid RMSE: 0.00472\n",
      "Epoch 77 | T: 1.82 | Train RMSE: 0.00451 | Valid RMSE: 0.00446\n",
      "Epoch 78 | T: 1.82 | Train RMSE: 0.00449 | Valid RMSE: 0.00454\n",
      "Epoch 79 | T: 1.82 | Train RMSE: 0.00449 | Valid RMSE: 0.00461\n",
      "Epoch 80 | T: 1.82 | Train RMSE: 0.00449 | Valid RMSE: 0.00479\n",
      "Epoch 81 | T: 1.80 | Train RMSE: 0.00446 | Valid RMSE: 0.00440\n",
      "Epoch 82 | T: 1.81 | Train RMSE: 0.00446 | Valid RMSE: 0.00445\n",
      "Epoch 83 | T: 1.80 | Train RMSE: 0.00446 | Valid RMSE: 0.00442\n",
      "Epoch 84 | T: 1.80 | Train RMSE: 0.00446 | Valid RMSE: 0.00449\n",
      "Epoch 85 | T: 1.80 | Train RMSE: 0.00445 | Valid RMSE: 0.00446\n",
      "Epoch 86 | T: 1.80 | Train RMSE: 0.00445 | Valid RMSE: 0.00442\n",
      "Epoch 87 | T: 1.80 | Train RMSE: 0.00444 | Valid RMSE: 0.00446\n",
      "Epoch 88 | T: 1.80 | Train RMSE: 0.00444 | Valid RMSE: 0.00444\n",
      "Epoch 89 | T: 1.80 | Train RMSE: 0.00444 | Valid RMSE: 0.00444\n",
      "Epoch 90 | T: 1.81 | Train RMSE: 0.00442 | Valid RMSE: 0.00442\n",
      "Epoch 91 | T: 1.81 | Train RMSE: 0.00442 | Valid RMSE: 0.00446\n",
      "Epoch 92 | T: 1.81 | Train RMSE: 0.00443 | Valid RMSE: 0.00439\n",
      "Epoch 93 | T: 1.81 | Train RMSE: 0.00443 | Valid RMSE: 0.00441\n",
      "Epoch 94 | T: 1.81 | Train RMSE: 0.00441 | Valid RMSE: 0.00448\n",
      "Epoch 95 | T: 1.81 | Train RMSE: 0.00442 | Valid RMSE: 0.00438\n",
      "Epoch 96 | T: 1.81 | Train RMSE: 0.00441 | Valid RMSE: 0.00446\n",
      "Epoch 97 | T: 1.81 | Train RMSE: 0.00440 | Valid RMSE: 0.00442\n",
      "Epoch 98 | T: 1.81 | Train RMSE: 0.00440 | Valid RMSE: 0.00438\n",
      "Epoch 99 | T: 1.81 | Train RMSE: 0.00440 | Valid RMSE: 0.00439\n",
      "Epoch 100 | T: 1.81 | Train RMSE: 0.00440 | Valid RMSE: 0.00441\n",
      "Epoch 101 | T: 1.81 | Train RMSE: 0.00440 | Valid RMSE: 0.00438\n",
      "Epoch 102 | T: 1.81 | Train RMSE: 0.00439 | Valid RMSE: 0.00442\n",
      "Epoch 103 | T: 1.81 | Train RMSE: 0.00439 | Valid RMSE: 0.00439\n",
      "Epoch 104 | T: 1.81 | Train RMSE: 0.00440 | Valid RMSE: 0.00437\n",
      "Epoch 105 | T: 1.82 | Train RMSE: 0.00439 | Valid RMSE: 0.00437\n",
      "Epoch 106 | T: 1.81 | Train RMSE: 0.00440 | Valid RMSE: 0.00439\n",
      "Epoch 107 | T: 1.80 | Train RMSE: 0.00438 | Valid RMSE: 0.00439\n",
      "Epoch 108 | T: 1.81 | Train RMSE: 0.00439 | Valid RMSE: 0.00436\n",
      "Epoch 109 | T: 1.81 | Train RMSE: 0.00439 | Valid RMSE: 0.00437\n",
      "Epoch 110 | T: 1.81 | Train RMSE: 0.00439 | Valid RMSE: 0.00437\n",
      "Epoch 111 | T: 1.81 | Train RMSE: 0.00438 | Valid RMSE: 0.00439\n",
      "Epoch 112 | T: 1.81 | Train RMSE: 0.00438 | Valid RMSE: 0.00437\n",
      "Epoch 113 | T: 1.81 | Train RMSE: 0.00438 | Valid RMSE: 0.00437\n",
      "Epoch 114 | T: 1.78 | Train RMSE: 0.00437 | Valid RMSE: 0.00437\n"
     ]
    }
   ],
   "source": [
    "train_rmse = []\n",
    "valid_rmse = []\n",
    "min_rmse = 10e8\n",
    "\n",
    "for i in range(num_epoch):\n",
    "    start = time.time()\n",
    "\n",
    "    # model.train() # if you use dropout or batchnorm. \n",
    "    train_rmse.append(train_epoch(model, optimizer, loss_fun))\n",
    "\n",
    "    # model.eval()\n",
    "    val_rmse, val_preds, val_trues = eval_epoch(model, loss_fun)\n",
    "    valid_rmse.append(val_rmse)\n",
    "\n",
    "    # save the best model\n",
    "    if valid_rmse[-1] < min_rmse:\n",
    "        min_rmse = valid_rmse[-1] \n",
    "        best_model = model\n",
    "        # torch.save([best_model, i, get_lr(optimizer)], name + \".pth\")\n",
    "\n",
    "    end = time.time()\n",
    "    \n",
    "    # Early Stopping\n",
    "    if (len(train_rmse) > 100 and np.mean(valid_rmse[-5:]) >= np.mean(valid_rmse[-10:-5])):\n",
    "            break       \n",
    "\n",
    "    # Learning Rate Decay        \n",
    "    scheduler.step()\n",
    "    \n",
    "    print(\"Epoch {} | T: {:0.2f} | Train RMSE: {:0.5f} | Valid RMSE: {:0.5f}\".format(i + 1, (end-start) / 60, train_rmse[-1], valid_rmse[-1]))"
   ]
  },
  {
   "cell_type": "code",
   "execution_count": null,
   "id": "f660344a",
   "metadata": {},
   "outputs": [],
   "source": []
  },
  {
   "cell_type": "code",
   "execution_count": 8,
   "id": "0edcbbaf",
   "metadata": {},
   "outputs": [],
   "source": [
    "test_path = \"./val_in/\"\n",
    "test_pkl_list = glob(os.path.join(test_path, '*'))\n",
    "test_pkl_list.sort()\n",
    "\n",
    "test_preds = []\n",
    "for idx in range(len(test_pkl_list)):\n",
    "    with open(test_pkl_list[idx], 'rb') as f:\n",
    "        test_sample = pickle.load(f)\n",
    "        pred_id = np.where(test_sample[\"track_id\"] == test_sample['agent_id'])[0][0]\n",
    "        inp_scene = np.dstack([test_sample['p_in'], test_sample['v_in']])\n",
    "\n",
    "        # Normalization \n",
    "        min_vecs = np.min(inp_scene, axis = (0,1))\n",
    "        max_vecs = np.max(inp_scene, axis = (0,1))\n",
    "        \n",
    "        inp = (inp_scene[pred_id] - min_vecs)/(max_vecs - min_vecs)\n",
    "        \n",
    "        inp = torch.from_numpy(inp).float().to(device).unsqueeze(0)\n",
    "\n",
    "        preds = best_model(inp).cpu().data.numpy()\n",
    "        preds = preds.reshape(30, 2)\n",
    "        \n",
    "        # De-Normalization !\n",
    "        preds = preds * (max_vecs[:2] - min_vecs[:2]) +  min_vecs[:2]\n",
    "        test_preds.append(preds)"
   ]
  },
  {
   "cell_type": "code",
   "execution_count": 9,
   "id": "3a93dd68",
   "metadata": {},
   "outputs": [],
   "source": [
    "# Convert to int\n",
    "sample_sub = pd.read_csv('sample_submission.csv')\n",
    "predictions = np.concatenate(test_preds).reshape(len(test_preds), -1).astype(int)\n",
    "sub_df = pd.DataFrame(np.c_[sample_sub[\"ID\"], predictions], columns=[np.r_[[\"ID\"], [\"v\" + str(i) for i in range(1, 61)]]])\n",
    "sub_df.to_csv('test_submission.csv', index=None)"
   ]
  },
  {
   "cell_type": "code",
   "execution_count": 14,
   "id": "2fd6caea",
   "metadata": {},
   "outputs": [
    {
     "data": {
      "text/plain": [
       "[<matplotlib.lines.Line2D at 0x2ad10df7e80>]"
      ]
     },
     "execution_count": 14,
     "metadata": {},
     "output_type": "execute_result"
    },
    {
     "data": {
      "image/png": "[encoded data removed]",
      "text/plain": [
       "<Figure size 432x288 with 1 Axes>"
      ]
     },
     "metadata": {
      "needs_background": "light"
     },
     "output_type": "display_data"
    }
   ],
   "source": [
    "from matplotlib import pyplot as plt\n",
    "test_path = \"./train/\"\n",
    "test_pkl_list = glob(os.path.join(test_path, '*'))\n",
    "test_pkl_list.sort()\n",
    "\n",
    "for idx in [3]:\n",
    "    with open(test_pkl_list[idx], 'rb') as f:\n",
    "        test_sample = pickle.load(f)\n",
    "        pred_id = np.where(test_sample[\"track_id\"] == test_sample['agent_id'])[0][0]\n",
    "        inp_scene = np.dstack([test_sample['p_in'], test_sample['v_in']])\n",
    "\n",
    "        # Normalization \n",
    "        min_vecs = np.min(inp_scene, axis = (0,1))\n",
    "        max_vecs = np.max(inp_scene, axis = (0,1))\n",
    "        \n",
    "        inp = (inp_scene[pred_id] - min_vecs)/(max_vecs - min_vecs)\n",
    "        \n",
    "        inp = torch.from_numpy(inp).float().to(device).unsqueeze(0)\n",
    "\n",
    "        preds = best_model(inp).cpu().data.numpy()\n",
    "        preds = preds.reshape(30, 2)\n",
    "        \n",
    "        # De-Normalization !\n",
    "        preds = preds * (max_vecs[:2] - min_vecs[:2]) +  min_vecs[:2]\n",
    "        inp = inp.cpu().reshape(19, 4)[:, :2] * (max_vecs[:2] - min_vecs[:2]) +  min_vecs[:2]\n",
    "        \n",
    "\n",
    "plt.plot(inp[:, 0], inp[:, 1])\n",
    "plt.plot(preds[:, 0], preds[:, 1])\n",
    "plt.plot(test_sample[\"p_out\"][pred_id, :, 0], test_sample[\"p_out\"][pred_id, :, 1])"
   ]
  },
  {
   "cell_type": "code",
   "execution_count": 11,
   "id": "cdc3a034",
   "metadata": {},
   "outputs": [
    {
     "data": {
      "text/plain": [
       "[<matplotlib.lines.Line2D at 0x2ad097a4e20>]"
      ]
     },
     "execution_count": 11,
     "metadata": {},
     "output_type": "execute_result"
    },
    {
     "data": {
      "image/png": "[encoded data removed]",
      "text/plain": [
       "<Figure size 432x288 with 1 Axes>"
      ]
     },
     "metadata": {
      "needs_background": "light"
     },
     "output_type": "display_data"
    }
   ],
   "source": [
    "aa = train_data[\"X\"][4].reshape(19, 4)\n",
    "bb = train_data[\"y\"][4].reshape(30, 2)\n",
    "plt.plot(aa[:, 0], aa[:, 1])\n",
    "plt.plot(bb[:, 0], bb[:, 1])"
   ]
  },
  {
   "cell_type": "code",
   "execution_count": null,
   "id": "6ec3bb3d",
   "metadata": {},
   "outputs": [],
   "source": []
  }
 ],
 "metadata": {
  "kernelspec": {
   "display_name": "Python 3",
   "language": "python",
   "name": "python3"
  },
  "language_info": {
   "codemirror_mode": {
    "name": "ipython",
    "version": 3
   },
   "file_extension": ".py",
   "mimetype": "text/x-python",
   "name": "python",
   "nbconvert_exporter": "python",
   "pygments_lexer": "ipython3",
   "version": "3.9.4"
  }
 },
 "nbformat": 4,
 "nbformat_minor": 5
}
