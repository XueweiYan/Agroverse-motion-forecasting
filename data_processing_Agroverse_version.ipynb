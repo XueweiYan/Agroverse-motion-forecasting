{
 "cells": [
  {
   "cell_type": "code",
   "execution_count": 1,
   "id": "f416fbb4",
   "metadata": {},
   "outputs": [],
   "source": [
    "from glob import glob\n",
    "import numpy as np\n",
    "import os\n",
    "import pickle\n",
    "from tqdm import tqdm\n",
    "from matplotlib import pyplot as plt"
   ]
  },
  {
   "cell_type": "code",
   "execution_count": 2,
   "id": "4bdddf52",
   "metadata": {},
   "outputs": [],
   "source": [
    "NEIGHBOR_THRESHOLD = 30\n",
    "DEFAULT_DISTANCE = 100"
   ]
  },
  {
   "cell_type": "code",
   "execution_count": 3,
   "id": "7b574b99",
   "metadata": {},
   "outputs": [],
   "source": [
    "with open(\"./train/0.pkl\", \"rb\") as f:\n",
    "    data = pickle.load(f)"
   ]
  },
  {
   "cell_type": "code",
   "execution_count": 3,
   "id": "39b30d73",
   "metadata": {},
   "outputs": [],
   "source": [
    "def normalize_path(path):\n",
    "    shift = path[0]\n",
    "    path_centered = path - shift\n",
    "    theta = -np.arctan2(path_centered[-1, 1], path_centered[-1, 0])\n",
    "    rotation_matrix = np.array([[np.cos(theta), -np.sin(theta)], [np.sin(theta), np.cos(theta)]])\n",
    "    path_rotated = (rotation_matrix @ path_centered.T).T\n",
    "    #scale_x = 1 / path_rotated[-1, 0]\n",
    "    #scale_y = 1 / (np.max(path_rotated[:, 1]) - np.mean(path_rotated[:, 1]))\n",
    "    #path_rotated[:, 0] = path_rotated[:, 0] * scale_x\n",
    "    #path_rotated[:, 1] = path_rotated[:, 1] * scale_y\n",
    "    return path_rotated, shift, rotation_matrix #, scale_x, scale_y\n",
    "\n",
    "def transform_path(path, shift, rotation_matrix):\n",
    "    if path.ndim == 2:\n",
    "        #path[:, 0] = path[:, 0] * scale_x\n",
    "        #path[:, 1] = path[:, 1] * scale_y\n",
    "        return (rotation_matrix @ (path - shift).T).T\n",
    "    elif path.ndim == 3:\n",
    "        #path[:, :, 0] = path[:, :, 0] * scale_x\n",
    "        #path[:, :, 1] = path[:, :, 1] * scale_y\n",
    "        path_normalize = np.zeros(path.shape)\n",
    "        for i in range(path.shape[0]):\n",
    "            path_normalize[i] = (rotation_matrix @ (path[i] - shift).T).T\n",
    "        return path_normalize\n",
    "    else:\n",
    "        raise Exception(\"Invalid dimension\")\n",
    "\n",
    "def closest_front_and_back(input_path, target_path):\n",
    "    closest = np.zeros((target_path.shape[0], 2))\n",
    "    for step in range(target_path.shape[0]):\n",
    "        if step == 0:\n",
    "            forward_dir = target_path[1] - target_path[0]\n",
    "        else:\n",
    "            forward_dir = target_path[step] - target_path[step - 1]\n",
    "        \n",
    "        relative_pos = input_path[:, step, :] - target_path[step]\n",
    "        distances = np.linalg.norm(relative_pos, axis=1)\n",
    "        forward_distances = distances[np.where(relative_pos @ forward_dir >= 0)[0]]\n",
    "        backward_distances = distances[np.where(relative_pos @ forward_dir < 0)[0]]\n",
    "        if len(forward_distances) == 0 or np.min(forward_distances) > NEIGHBOR_THRESHOLD:\n",
    "            closest[step, 0] = DEFAULT_DISTANCE\n",
    "        else:\n",
    "            closest[step, 0] = np.min(forward_distances)\n",
    "        \n",
    "        if len(backward_distances) == 0 or np.min(backward_distances) > NEIGHBOR_THRESHOLD:\n",
    "            closest[step, 1] = DEFAULT_DISTANCE\n",
    "        else:\n",
    "            closest[step, 1] = np.min(backward_distances)\n",
    "    return closest\n",
    "\n",
    "def generate_features(dir_name):\n",
    "    pkl_list = os.listdir(\"./{}\".format(dir_name))\n",
    "    X, y, shifts, rotation_matrices, scales_x, scales_y, ID = None, None, None, None, None, None, None\n",
    "    for fname in tqdm(pkl_list):\n",
    "        with open(\"./{}/\".format(dir_name) + fname, \"rb\") as f:\n",
    "            data = pickle.load(f)\n",
    "            car_mask = np.where(data[\"car_mask\"] == 1)[0]\n",
    "            pred_target = np.where(data[\"track_id\"] == data[\"agent_id\"])[0][0]\n",
    "            if pred_target not in car_mask:\n",
    "                continue\n",
    "            else:\n",
    "                car_mask = np.delete(car_mask, pred_target)\n",
    "            all_paths = data[\"p_in\"][car_mask]\n",
    "            target_path = data[\"p_in\"][pred_target]\n",
    "            \n",
    "            # feature 2 distance with respect to other cars (top 2)\n",
    "            closest_distances = closest_front_and_back(all_paths, target_path)\n",
    "\n",
    "            # feature 3 number of neighbors within \n",
    "            car_distance_per_time = np.linalg.norm((all_paths - target_path), axis=2).T\n",
    "            num_neighbors = np.sum(car_distance_per_time > NEIGHBOR_THRESHOLD, axis=1).reshape(-1, 1)\n",
    "            \n",
    "            # feature 1 normalized location\n",
    "            target_path, shift, rotation_matrix = normalize_path(target_path)\n",
    "            # all_paths = transform_path(all_paths, shift, rotation_matrix, scale_x, scale_y)\n",
    "            \n",
    "            \n",
    "            input_X = np.hstack([target_path, closest_distances, num_neighbors])\n",
    "            \n",
    "            if dir_name == \"train\":\n",
    "                target_y = data[\"p_out\"][pred_target]\n",
    "                target_y = transform_path(target_y, shift, rotation_matrix)\n",
    "            else:\n",
    "                target_y = np.zeros([30, 2])\n",
    "            \n",
    "            \n",
    "            input_X = np.expand_dims(input_X, axis=0)\n",
    "            target_y = np.expand_dims(target_y, axis=0)\n",
    "            shift = np.expand_dims(shift, axis=0)\n",
    "            rotation_matrix = np.expand_dims(rotation_matrix, axis=0)\n",
    "            #scale_x = np.expand_dims(scale_x, axis=0)\n",
    "            #scale_y = np.expand_dims(scale_y, axis=0)\n",
    "            \n",
    "            if X is None:\n",
    "                X = input_X\n",
    "                y = target_y\n",
    "                shifts = shift\n",
    "                rotation_matrices = rotation_matrix\n",
    "                #scales_x = scale_x\n",
    "                #scales_y = scale_y\n",
    "                ID = data[\"scene_idx\"]\n",
    "            else:\n",
    "                X = np.vstack([X, input_X])\n",
    "                y = np.vstack([y, target_y])\n",
    "                shifts = np.vstack([shifts, shift])\n",
    "                rotation_matrices = np.vstack([rotation_matrices, rotation_matrix])\n",
    "                #scales_x = np.vstack([scales_x, scale_x])\n",
    "                #scales_y = np.vstack([scales_y, scale_y])\n",
    "                ID = np.append(ID, data[\"scene_idx\"])\n",
    "    if dir_name == \"train\":\n",
    "        np.savez(\"processed_{}.npz\".format(dir_name), X=X, y=y, shifts=shifts, rotation_matrices=rotation_matrices, ID=ID)\n",
    "    else:\n",
    "        np.savez(\"processed_{}.npz\".format(dir_name), X=X, shifts=shifts, rotation_matrices=rotation_matrices, ID=ID)\n",
    "    print(X.shape, y.shape, shifts.shape, rotation_matrices.shape, ID.shape)"
   ]
  },
  {
   "cell_type": "code",
   "execution_count": 4,
   "id": "7089fa30",
   "metadata": {},
   "outputs": [
    {
     "name": "stderr",
     "output_type": "stream",
     "text": [
      "100%|████████████████████████████████████████████████████████████████████████| 205942/205942 [2:22:32<00:00, 24.08it/s]\n"
     ]
    },
    {
     "name": "stdout",
     "output_type": "stream",
     "text": [
      "(205942, 19, 5) (205942, 30, 2) (205942, 2) (205942, 2, 2) (205942,)\n"
     ]
    }
   ],
   "source": [
    "generate_features(\"train\")"
   ]
  },
  {
   "cell_type": "code",
   "execution_count": 5,
   "id": "fd53510e",
   "metadata": {},
   "outputs": [
    {
     "name": "stderr",
     "output_type": "stream",
     "text": [
      "100%|█████████████████████████████████████████████████████████████████████████████| 3200/3200 [00:17<00:00, 180.46it/s]"
     ]
    },
    {
     "name": "stdout",
     "output_type": "stream",
     "text": [
      "(3200, 19, 5) (3200, 30, 2) (3200, 2) (3200, 2, 2) (3200,)\n"
     ]
    },
    {
     "name": "stderr",
     "output_type": "stream",
     "text": [
      "\n"
     ]
    }
   ],
   "source": [
    "generate_features(\"val_in\")"
   ]
  }
 ],
 "metadata": {
  "kernelspec": {
   "display_name": "Python 3",
   "language": "python",
   "name": "python3"
  },
  "language_info": {
   "codemirror_mode": {
    "name": "ipython",
    "version": 3
   },
   "file_extension": ".py",
   "mimetype": "text/x-python",
   "name": "python",
   "nbconvert_exporter": "python",
   "pygments_lexer": "ipython3",
   "version": "3.9.4"
  }
 },
 "nbformat": 4,
 "nbformat_minor": 5
}
