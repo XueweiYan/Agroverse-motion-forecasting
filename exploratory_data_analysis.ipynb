{
 "cells": [
  {
   "cell_type": "code",
   "execution_count": 1,
   "id": "f416fbb4",
   "metadata": {},
   "outputs": [],
   "source": [
    "import pickle\n",
    "from glob import glob\n",
    "import numpy as np\n",
    "import pandas as pd\n",
    "import matplotlib.pyplot as plt"
   ]
  },
  {
   "cell_type": "code",
   "execution_count": 2,
   "id": "f7c7cedb",
   "metadata": {},
   "outputs": [],
   "source": [
    "train_path = \"processed_train.npz\"\n",
    "train_data = np.load(train_path)\n",
    "test_path = \"processed_val_in.npz\"\n",
    "test_data = np.load(test_path)"
   ]
  },
  {
   "cell_type": "code",
   "execution_count": 3,
   "id": "7089fa30",
   "metadata": {},
   "outputs": [
    {
     "data": {
      "text/plain": [
       "((205942, 19, 5), (3200, 19, 5))"
      ]
     },
     "execution_count": 3,
     "metadata": {},
     "output_type": "execute_result"
    }
   ],
   "source": [
    "train_data[\"X\"].shape, test_data[\"X\"].shape"
   ]
  },
  {
   "cell_type": "code",
   "execution_count": 4,
   "id": "59948063",
   "metadata": {},
   "outputs": [],
   "source": [
    "def inverse_transform_path(path, shift, rotation_matrix):\n",
    "    if path.ndim == 2:\n",
    "        return (np.linalg.inv(rotation_matrix) @ path.T).T + shift\n",
    "    elif path.ndim == 3:\n",
    "        path_normalize = np.zeros(path.shape)\n",
    "        for i in range(path.shape[0]):\n",
    "            path_normalize[i] = (np.linalg.inv(rotation_matrix) @ path[i].T).T + shift\n",
    "        return path_normalize\n",
    "    else:\n",
    "        raise Exception(\"Invalid dimension\")"
   ]
  },
  {
   "cell_type": "code",
   "execution_count": 5,
   "id": "8f9a29f2",
   "metadata": {},
   "outputs": [],
   "source": [
    "X, y, shifts, rotations = train_data[\"X\"][:, :, :2], train_data[\"y\"], train_data[\"shifts\"], train_data[\"rotation_matrices\"]\n",
    "for i in range(len(X)):\n",
    "    X[i] = inverse_transform_path(X[i], shifts[i], rotations[i])\n",
    "    y[i] = inverse_transform_path(y[i], shifts[i], rotations[i])\n",
    "X2, shifts, rotations = test_data[\"X\"][:, :, :2], test_data[\"shifts\"], test_data[\"rotation_matrices\"]\n",
    "for i in range(len(X2)):\n",
    "    X2[i] = inverse_transform_path(X2[i], shifts[i], rotations[i])"
   ]
  },
  {
   "cell_type": "code",
   "execution_count": 6,
   "id": "b8150380",
   "metadata": {},
   "outputs": [],
   "source": [
    "x_min = np.min([X[:, :, 0].min(), X2[:, :, 0].min()])\n",
    "x_max = np.max([X[:, :, 0].max(), X2[:, :, 0].max()])\n",
    "y_min = np.min([X[:, :, 1].min(), X2[:, :, 1].min()])\n",
    "y_max = np.max([X[:, :, 1].max(), X2[:, :, 1].max()])"
   ]
  },
  {
   "cell_type": "code",
   "execution_count": 7,
   "id": "e433fe4b",
   "metadata": {},
   "outputs": [
    {
     "data": {
      "text/plain": [
       "Text(0.5, 1.0, 'Heatmap of input positions in testing set')"
      ]
     },
     "execution_count": 7,
     "metadata": {},
     "output_type": "execute_result"
    },
    {
     "data": {
      "image/png": "[encoded data removed]",
      "text/plain": [
       "<Figure size 1080x360 with 3 Axes>"
      ]
     },
     "metadata": {
      "needs_background": "light"
     },
     "output_type": "display_data"
    }
   ],
   "source": [
    "fig, ax = plt.subplots(1, 3, figsize=(15, 5))\n",
    "\n",
    "heatmap, xedges, yedges = np.histogram2d(X[:, :, 0].reshape(-1), X[:, :, 1].reshape(-1), bins=50)\n",
    "ax[0].imshow(heatmap.T, origin='lower', extent=[x_min, x_max, y_min, y_max], cmap=\"gray\")\n",
    "ax[0].set_title(\"Heatmap of input positions in training set\")\n",
    "\n",
    "heatmap, xedges, yedges = np.histogram2d(y[:, :, 0].reshape(-1), y[:, :, 1].reshape(-1), bins=50)\n",
    "ax[1].imshow(heatmap.T, origin='lower', extent=[x_min, x_max, y_min, y_max], cmap=\"gray\")\n",
    "ax[1].set_title(\"Heatmap of output positions in training set\")\n",
    "\n",
    "heatmap, xedges, yedges = np.histogram2d(X2[:, :, 0].reshape(-1), X2[:, :, 1].reshape(-1), bins=50)\n",
    "ax[2].imshow(heatmap.T, origin='lower', extent=[x_min, x_max, y_min, y_max], cmap=\"gray\")\n",
    "ax[2].set_title(\"Heatmap of input positions in testing set\")"
   ]
  },
  {
   "cell_type": "code",
   "execution_count": 8,
   "id": "198af21d",
   "metadata": {},
   "outputs": [
    {
     "data": {
      "text/plain": [
       "(-0.5, 49.5, -0.5, 49.5)"
      ]
     },
     "execution_count": 8,
     "metadata": {},
     "output_type": "execute_result"
    },
    {
     "data": {
      "image/png": "[encoded data removed]",
      "text/plain": [
       "<Figure size 720x360 with 2 Axes>"
      ]
     },
     "metadata": {
      "needs_background": "light"
     },
     "output_type": "display_data"
    }
   ],
   "source": [
    "fig, ax = plt.subplots(1, 2, figsize=(10, 5))\n",
    "X_normalized = (X - X.min(axis=1, keepdims=True)) / (X.max(axis=1, keepdims=True) - X.min(axis=1, keepdims=True))\n",
    "heatmap, xedges, yedges = np.histogram2d(X_normalized[:, :, 0].reshape(-1), X_normalized[:, :, 1].reshape(-1), bins=50)\n",
    "ax[0].imshow(heatmap.T, origin='lower', cmap=\"gray\")\n",
    "ax[0].set_title(\"Distribution with data normalization\")\n",
    "ax[0].axis('off')\n",
    "\n",
    "heatmap, xedges, yedges = np.histogram2d(train_data[\"X\"][:, :, 0].reshape(-1), train_data[\"X\"][:, :, 1].reshape(-1), bins=50)\n",
    "ax[1].imshow(heatmap.T, origin='lower', cmap=\"gray\")\n",
    "ax[1].set_title(\"Distribution with rotational data alignment\")\n",
    "ax[1].axis('off')"
   ]
  },
  {
   "cell_type": "code",
   "execution_count": 10,
   "id": "0c3ba8d8",
   "metadata": {},
   "outputs": [
    {
     "data": {
      "text/plain": [
       "(205942, 19, 2)"
      ]
     },
     "execution_count": 10,
     "metadata": {},
     "output_type": "execute_result"
    }
   ],
   "source": [
    "X_normalized.shape"
   ]
  },
  {
   "cell_type": "code",
   "execution_count": 20,
   "id": "82984cdb",
   "metadata": {},
   "outputs": [
    {
     "ename": "MemoryError",
     "evalue": "Unable to allocate 149. MiB for an array with shape (19564490,) and data type float64",
     "output_type": "error",
     "traceback": [
      "\u001b[1;31m---------------------------------------------------------------------------\u001b[0m",
      "\u001b[1;31mMemoryError\u001b[0m                               Traceback (most recent call last)",
      "\u001b[1;32m<ipython-input-20-852f07266c49>\u001b[0m in \u001b[0;36m<module>\u001b[1;34m\u001b[0m\n\u001b[0;32m      1\u001b[0m \u001b[1;32mfor\u001b[0m \u001b[0mi\u001b[0m \u001b[1;32min\u001b[0m \u001b[0mrange\u001b[0m\u001b[1;33m(\u001b[0m\u001b[1;36m20\u001b[0m\u001b[1;33m)\u001b[0m\u001b[1;33m:\u001b[0m\u001b[1;33m\u001b[0m\u001b[1;33m\u001b[0m\u001b[0m\n\u001b[1;32m----> 2\u001b[1;33m     \u001b[0mplt\u001b[0m\u001b[1;33m.\u001b[0m\u001b[0mplot\u001b[0m\u001b[1;33m(\u001b[0m\u001b[0mtrain_data\u001b[0m\u001b[1;33m[\u001b[0m\u001b[1;34m\"X\"\u001b[0m\u001b[1;33m]\u001b[0m\u001b[1;33m[\u001b[0m\u001b[0mi\u001b[0m\u001b[1;33m,\u001b[0m \u001b[1;33m:\u001b[0m\u001b[1;33m,\u001b[0m \u001b[1;36m0\u001b[0m\u001b[1;33m]\u001b[0m\u001b[1;33m,\u001b[0m \u001b[0mtrain_data\u001b[0m\u001b[1;33m[\u001b[0m\u001b[1;34m\"X\"\u001b[0m\u001b[1;33m]\u001b[0m\u001b[1;33m[\u001b[0m\u001b[0mi\u001b[0m\u001b[1;33m,\u001b[0m \u001b[1;33m:\u001b[0m\u001b[1;33m,\u001b[0m \u001b[1;36m1\u001b[0m\u001b[1;33m]\u001b[0m\u001b[1;33m)\u001b[0m\u001b[1;33m\u001b[0m\u001b[1;33m\u001b[0m\u001b[0m\n\u001b[0m\u001b[0;32m      3\u001b[0m     \u001b[1;31m#plt.plot(train_data[\"y\"][i, :, 0], train_data[\"y\"][i, :, 1])\u001b[0m\u001b[1;33m\u001b[0m\u001b[1;33m\u001b[0m\u001b[1;33m\u001b[0m\u001b[0m\n\u001b[0;32m      4\u001b[0m \u001b[0mplt\u001b[0m\u001b[1;33m.\u001b[0m\u001b[0mtitle\u001b[0m\u001b[1;33m(\u001b[0m\u001b[1;34m\"samples of aligned trajectories\"\u001b[0m\u001b[1;33m)\u001b[0m\u001b[1;33m\u001b[0m\u001b[1;33m\u001b[0m\u001b[0m\n",
      "\u001b[1;32mc:\\users\\user\\appdata\\local\\programs\\python\\python39\\lib\\site-packages\\numpy\\lib\\npyio.py\u001b[0m in \u001b[0;36m__getitem__\u001b[1;34m(self, key)\u001b[0m\n\u001b[0;32m    251\u001b[0m             \u001b[1;32mif\u001b[0m \u001b[0mmagic\u001b[0m \u001b[1;33m==\u001b[0m \u001b[0mformat\u001b[0m\u001b[1;33m.\u001b[0m\u001b[0mMAGIC_PREFIX\u001b[0m\u001b[1;33m:\u001b[0m\u001b[1;33m\u001b[0m\u001b[1;33m\u001b[0m\u001b[0m\n\u001b[0;32m    252\u001b[0m                 \u001b[0mbytes\u001b[0m \u001b[1;33m=\u001b[0m \u001b[0mself\u001b[0m\u001b[1;33m.\u001b[0m\u001b[0mzip\u001b[0m\u001b[1;33m.\u001b[0m\u001b[0mopen\u001b[0m\u001b[1;33m(\u001b[0m\u001b[0mkey\u001b[0m\u001b[1;33m)\u001b[0m\u001b[1;33m\u001b[0m\u001b[1;33m\u001b[0m\u001b[0m\n\u001b[1;32m--> 253\u001b[1;33m                 return format.read_array(bytes,\n\u001b[0m\u001b[0;32m    254\u001b[0m                                          \u001b[0mallow_pickle\u001b[0m\u001b[1;33m=\u001b[0m\u001b[0mself\u001b[0m\u001b[1;33m.\u001b[0m\u001b[0mallow_pickle\u001b[0m\u001b[1;33m,\u001b[0m\u001b[1;33m\u001b[0m\u001b[1;33m\u001b[0m\u001b[0m\n\u001b[0;32m    255\u001b[0m                                          \u001b[0mpickle_kwargs\u001b[0m\u001b[1;33m=\u001b[0m\u001b[0mself\u001b[0m\u001b[1;33m.\u001b[0m\u001b[0mpickle_kwargs\u001b[0m\u001b[1;33m,\u001b[0m\u001b[1;33m\u001b[0m\u001b[1;33m\u001b[0m\u001b[0m\n",
      "\u001b[1;32mc:\\users\\user\\appdata\\local\\programs\\python\\python39\\lib\\site-packages\\numpy\\lib\\format.py\u001b[0m in \u001b[0;36mread_array\u001b[1;34m(fp, allow_pickle, pickle_kwargs, max_header_size)\u001b[0m\n\u001b[0;32m    812\u001b[0m             \u001b[1;31m# not correctly instantiate zero-width string dtypes; see\u001b[0m\u001b[1;33m\u001b[0m\u001b[1;33m\u001b[0m\u001b[1;33m\u001b[0m\u001b[0m\n\u001b[0;32m    813\u001b[0m             \u001b[1;31m# https://github.com/numpy/numpy/pull/6430\u001b[0m\u001b[1;33m\u001b[0m\u001b[1;33m\u001b[0m\u001b[1;33m\u001b[0m\u001b[0m\n\u001b[1;32m--> 814\u001b[1;33m             \u001b[0marray\u001b[0m \u001b[1;33m=\u001b[0m \u001b[0mnumpy\u001b[0m\u001b[1;33m.\u001b[0m\u001b[0mndarray\u001b[0m\u001b[1;33m(\u001b[0m\u001b[0mcount\u001b[0m\u001b[1;33m,\u001b[0m \u001b[0mdtype\u001b[0m\u001b[1;33m=\u001b[0m\u001b[0mdtype\u001b[0m\u001b[1;33m)\u001b[0m\u001b[1;33m\u001b[0m\u001b[1;33m\u001b[0m\u001b[0m\n\u001b[0m\u001b[0;32m    815\u001b[0m \u001b[1;33m\u001b[0m\u001b[0m\n\u001b[0;32m    816\u001b[0m             \u001b[1;32mif\u001b[0m \u001b[0mdtype\u001b[0m\u001b[1;33m.\u001b[0m\u001b[0mitemsize\u001b[0m \u001b[1;33m>\u001b[0m \u001b[1;36m0\u001b[0m\u001b[1;33m:\u001b[0m\u001b[1;33m\u001b[0m\u001b[1;33m\u001b[0m\u001b[0m\n",
      "\u001b[1;31mMemoryError\u001b[0m: Unable to allocate 149. MiB for an array with shape (19564490,) and data type float64"
     ]
    }
   ],
   "source": [
    "for i in range(20):\n",
    "    plt.plot(train_data[\"X\"][i, :, 0], train_data[\"X\"][i, :, 1])\n",
    "    #plt.plot(train_data[\"y\"][i, :, 0], train_data[\"y\"][i, :, 1])\n",
    "plt.title(\"samples of aligned trajectories\")"
   ]
  }
 ],
 "metadata": {
  "kernelspec": {
   "display_name": "Python 3",
   "language": "python",
   "name": "python3"
  },
  "language_info": {
   "codemirror_mode": {
    "name": "ipython",
    "version": 3
   },
   "file_extension": ".py",
   "mimetype": "text/x-python",
   "name": "python",
   "nbconvert_exporter": "python",
   "pygments_lexer": "ipython3",
   "version": "3.9.4"
  }
 },
 "nbformat": 4,
 "nbformat_minor": 5
}
